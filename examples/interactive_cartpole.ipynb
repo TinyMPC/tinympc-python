{
 "cells": [
  {
   "attachments": {},
   "cell_type": "markdown",
   "metadata": {},
   "source": [
    "# Interactive TinyMPC Example in Python\n",
    "We demonstrate an interactive workflow in Python with TinyMPC where you can generate C code and interact with it via Python. This example uses cartpole linearized model.\n",
    "\n",
    "Restart kernel if something breaks."
   ]
  },
  {
   "attachments": {},
   "cell_type": "markdown",
   "metadata": {},
   "source": [
    "Load necessary packages, make sure to install `tinympc` ([README.md](../README.md))"
   ]
  },
  {
   "cell_type": "code",
   "execution_count": null,
   "metadata": {},
   "outputs": [],
   "source": [
    "import tinympc\n",
    "import numpy as np\n",
    "import math"
   ]
  },
  {
   "attachments": {},
   "cell_type": "markdown",
   "metadata": {},
   "source": [
    "Define the class and compile original TinyMPC code to get a generic shared/dynamic library\n",
    "\n",
    "**PLEASE CHANGE `tinympc_python_dir` TO YOUR ABSOLUTE PATH**"
   ]
  },
  {
   "cell_type": "code",
   "execution_count": null,
   "metadata": {},
   "outputs": [],
   "source": [
    "prob = tinympc.TinyMPC()\n",
    "\n",
    "tinympc_python_dir = \"/home/khai/SSD/Code/tinympc-python\"  # Your absolute path to the tinympc-python directory, you may only need to change this\n",
    "\n",
    "tinympc_dir = tinympc_python_dir + \"/tinympc/TinyMPC\"  # Path to the TinyMPC directory (C code)\n",
    "prob.compile_lib(tinympc_dir)  # Compile the library"
   ]
  },
  {
   "attachments": {},
   "cell_type": "markdown",
   "metadata": {},
   "source": [
    "Load the generic shared/dynamic library. **You may want to change the extension of the library based on your OS -- Linux: .so, Mac: .dylib, Windows: .dll**"
   ]
  },
  {
   "cell_type": "code",
   "execution_count": null,
   "metadata": {},
   "outputs": [],
   "source": [
    "os_ext = \".so\"  # CHANGE THIS BASED ON YOUR OS\n",
    "lib_dir = tinympc_dir + \"/build/src/tinympc/libtinympcShared\" + os_ext  # Path to the compiled library\n",
    "prob.load_lib(lib_dir)  # Load the library"
   ]
  },
  {
   "attachments": {},
   "cell_type": "markdown",
   "metadata": {},
   "source": [
    "Problem data includes cartpole LTI model, cost weights, constraints and settings. All matrices are in row-major order and types are double and integer"
   ]
  },
  {
   "cell_type": "code",
   "execution_count": null,
   "metadata": {},
   "outputs": [],
   "source": [
    "n = 4  # state dimension: x, xdot, theta, thetadot\n",
    "m = 1  # force dimension: F\n",
    "N = 10  # horizon\n",
    "\n",
    "A = [\n",
    "    1,\n",
    "    0,\n",
    "    0,\n",
    "    0,\n",
    "    0.01,\n",
    "    1,\n",
    "    0,\n",
    "    0,\n",
    "    2.2330083403300767e-5,\n",
    "    0.004466210576510177,\n",
    "    1.0002605176397052,\n",
    "    0.05210579005928538,\n",
    "    7.443037974683548e-8,\n",
    "    2.2330083403300767e-5,\n",
    "    0.01000086835443038,\n",
    "    1.0002605176397052,\n",
    "]  # A matrix in row-major order\n",
    "B = [\n",
    "    7.468368562730335e-5,\n",
    "    0.014936765390161838,\n",
    "    3.79763323185387e-5,\n",
    "    0.007595596218554721,\n",
    "]  # B matrix in row-major order\n",
    "Q = [10.0, 1, 10, 1]  # Q matrix just diagonal in row-major order\n",
    "R = [1.0]  # R matrix just diagonal in row-major order\n",
    "rho = 0.1  # ADMM penalty parameter\n",
    "\n",
    "x_min = [-5.0] * n * N  # state constraints\n",
    "x_max = [5.] * n * N  # state constraints\n",
    "u_min = [-5.] * m * (N - 1)  # force constraints\n",
    "u_max = [5.] * m * (N - 1)  # force constraints\n",
    "\n",
    "abs_pri_tol = 1.0e-3  # absolute primal tolerance\n",
    "abs_dual_tol = 1.0e-3  # absolute dual tolerance\n",
    "max_iter = 100  # maximum number of iterations\n",
    "check_termination = 1  # whether to check termination and period\n",
    "\n",
    "# Setup problem data\n",
    "prob.setup(n, m, N, A, B, Q, R, x_min, x_max, u_min, u_max, rho, abs_pri_tol, abs_dual_tol, max_iter, check_termination)"
   ]
  },
  {
   "attachments": {},
   "cell_type": "markdown",
   "metadata": {},
   "source": [
    "After define the problem, we generate the tailored code with above data. \n",
    "\n",
    "Here we compile it for interactive Python script but you can use it directly for your applications/systems"
   ]
  },
  {
   "cell_type": "code",
   "execution_count": null,
   "metadata": {},
   "outputs": [],
   "source": [
    "output_dir = tinympc_python_dir + \"/generated_code\"  # Path to the generated code\n",
    "prob.tiny_codegen(tinympc_dir, output_dir)\n",
    "prob.compile_lib(output_dir)"
   ]
  },
  {
   "attachments": {},
   "cell_type": "markdown",
   "metadata": {},
   "source": [
    "Load the compiled shared/dynamic library"
   ]
  },
  {
   "cell_type": "code",
   "execution_count": null,
   "metadata": {},
   "outputs": [],
   "source": [
    "prob.load_lib(output_dir + \"/build/tinympc/libtinympcShared\" + os_ext)  # Load the library"
   ]
  },
  {
   "attachments": {},
   "cell_type": "markdown",
   "metadata": {},
   "source": [
    "Run the interactive MPC example which calls the generated code\n",
    "\n",
    "This works with pointers then C data is modified in each kernel session. If you want to run from the original setup, you may need to change data back or \n",
    "restart kernel."
   ]
  },
  {
   "cell_type": "code",
   "execution_count": null,
   "metadata": {},
   "outputs": [],
   "source": [
    "x = [0.5, 0, 0.2, 0]  # Initial state\n",
    "u = [0.0] * m * (N - 1)  # List of control inputs in horizon\n",
    "x_all = []  # List of all stored states\n",
    "x_noise = x * 1\n",
    "# Matrices for simulation\n",
    "Anp = np.array(A).reshape((n, n)).transpose()\n",
    "Bnp = np.array(B).reshape((n, m))\n",
    "\n",
    "print(\"=== START INTERACTIVE MPC ===\")\n",
    "\n",
    "NSIM = 300\n",
    "for i in range(NSIM):\n",
    "    # 1. Set initial state from measurement    \n",
    "    prob.set_x0(x_noise, 0)  # Set initial state to C code\n",
    "    \n",
    "    # 2. Set the reference state if needed    \n",
    "\n",
    "    # 3. Solve the problem\n",
    "    prob.solve(0)  # Call the solve in C code\n",
    "\n",
    "    # 4. Get the control input\n",
    "    prob.get_u(u, 0)  # Get the control input from C code\n",
    "\n",
    "    # 5. Simulate the dynamics    \n",
    "    x = Anp@np.array(x).reshape((n, 1))+ Bnp*np.array(u[0]) \n",
    "\n",
    "    noise = np.random.normal(0, 0.01, (n, 1))\n",
    "    x_noise = x + noise\n",
    "    # print(f\"X = {x}\")\n",
    "    x = x.reshape(n).tolist() \n",
    "    x_noise = x_noise.reshape(n).tolist() \n",
    "    # print(f\"X = {x}\")\n",
    "    x_all.append(x)\n",
    "\n",
    "print((x_all))"
   ]
  },
  {
   "attachments": {},
   "cell_type": "markdown",
   "metadata": {},
   "source": [
    "Visualize the robot and trajectory"
   ]
  },
  {
   "cell_type": "code",
   "execution_count": null,
   "metadata": {},
   "outputs": [],
   "source": [
    "%matplotlib notebook\n",
    "import matplotlib.pyplot as plt\n",
    "from matplotlib.animation import FuncAnimation\n",
    "\n",
    "# Set up the figure and axis for plotting\n",
    "fig, ax = plt.subplots()\n",
    "ax.set_xlim(-2.5, 2.5)\n",
    "ax.set_ylim(-1, 1)\n",
    "\n",
    "# Initialize the cartpole visualization\n",
    "cart, = ax.plot([], [], 'bo', markersize=20)\n",
    "pole, = ax.plot([], [], 'r-', linewidth=4)\n",
    "\n",
    "def init():\n",
    "    cart.set_data([], [])\n",
    "    pole.set_data([], [])\n",
    "    return cart, pole\n",
    "\n",
    "def update(frame):\n",
    "    x = x_all[frame]\n",
    "    # Update the cart position\n",
    "    cart.set_data([x[0]], [0])\n",
    "\n",
    "    # Update the pole position, zero angle points up\n",
    "    pole.set_data([x[0], x[0] - 0.5*math.sin(x[2])], [0, 0.5 * math.cos(x[2])])\n",
    "    # print(frame)\n",
    "    # if frame==NSIM-1:\n",
    "    #     ani.event_source.stop()  # Stop the animation if the episode is \n",
    "    return cart, pole\n",
    "\n",
    "# Create the animation\n",
    "ani = FuncAnimation(fig, update, frames=NSIM, init_func=init, blit=False, interval=10)\n",
    "\n",
    "# Display the animation (may not display anything in notebook :D, that's why I save it to a file)\n",
    "plt.show(ani)"
   ]
  },
  {
   "attachments": {},
   "cell_type": "markdown",
   "metadata": {},
   "source": [
    "Save the animation"
   ]
  },
  {
   "cell_type": "code",
   "execution_count": null,
   "metadata": {},
   "outputs": [],
   "source": [
    "ani.save('cartpole.mp4', writer='ffmpeg', fps=30, dpi=200)"
   ]
  },
  {
   "attachments": {},
   "cell_type": "markdown",
   "metadata": {},
   "source": [
    "After testing MPC procedure with the generated code, you need to deploy it for your applications/systems. Stay tuned for Teensy and STM32 deployment tutorials. \n",
    "\n",
    "Your `tiny_main` may look like this\n",
    "\n",
    "```C\n",
    "int main()\n",
    "{\n",
    "    int exitflag = 1;\n",
    "    TinyWorkspace* work = tiny_data_solver.work;\n",
    "    tiny_data_solver.work->Xref = tiny_MatrixNxNh::Zero();\n",
    "    tiny_data_solver.work->Uref = tiny_MatrixNuNhm1::Zero();\n",
    "    tiny_data_solver.settings->max_iter = 150;\n",
    "    tiny_data_solver.settings->en_input_bound = 1;\n",
    "    tiny_data_solver.settings->en_state_bound = 1;\n",
    "\n",
    "    tiny_VectorNx x0, x1; // current and next simulation states\n",
    "    x0 << 0.0, 0, 0.1, 0; // initial state\n",
    "\n",
    "    int i = 0;\n",
    "    for (int k = 0; k < 300; ++k)\n",
    "    {\n",
    "        printf(\"tracking error at step %2d: %.4f\\n\", k, (x0 - work->Xref.col(1)).norm());\n",
    "\n",
    "        // 1. Update measurement (use your API to get measurement)\n",
    "        work->x.col(0) = x0;\n",
    "\n",
    "        // 2. Update reference (if needed)\n",
    "        // you can also use C wrapper (intended for high-level languages) \n",
    "        // by including tiny_wrapper.hpp and call `set_xref(...)` function\n",
    "\n",
    "        // 3. Reset dual variables (if needed)\n",
    "        // work->y = tiny_MatrixNuNhm1::Zero();\n",
    "        // work->g = tiny_MatrixNxNh::Zero();\n",
    "\n",
    "        // 4. Solve MPC problem\n",
    "        exitflag = tiny_solve(&tiny_data_solver);\n",
    "\n",
    "        // if (exitflag == 0)\n",
    "        // \tprintf(\"HOORAY! Solved with no error!\\n\");\n",
    "        // else\n",
    "        // \tprintf(\"OOPS! Something went wrong!\\n\");\n",
    "        // \t// break;\n",
    "\n",
    "        std::cout << work->iter << std::endl;\n",
    "        std::cout << work->u.col(0).transpose().format(CleanFmt) << std::endl;\n",
    "\n",
    "        // 5. Simulate forward/or use API to feed to your real system\n",
    "        // work->u.col(0) = -tiny_data_solver.cache->Kinf * (x0 - work->Xref.col(0));  // if only use LQR\n",
    "        x1 = work->Adyn * x0 + work->Bdyn * work->u.col(0);\n",
    "        x0 = x1;\n",
    "        // std::cout << x0.transpose().format(CleanFmt) << std::endl;\n",
    "    }\n",
    "}\n",
    "```"
   ]
  }
 ],
 "metadata": {
  "kernelspec": {
   "display_name": "Python 3",
   "language": "python",
   "name": "python3"
  },
  "language_info": {
   "codemirror_mode": {
    "name": "ipython",
    "version": 3
   },
   "file_extension": ".py",
   "mimetype": "text/x-python",
   "name": "python",
   "nbconvert_exporter": "python",
   "pygments_lexer": "ipython3",
   "version": "3.7.16"
  },
  "orig_nbformat": 4
 },
 "nbformat": 4,
 "nbformat_minor": 2
}
